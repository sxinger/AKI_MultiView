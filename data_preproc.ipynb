{
 "cells": [
  {
   "cell_type": "code",
   "execution_count": 11,
   "metadata": {},
   "outputs": [],
   "source": [
    "import pandas as pd\n",
    "from scipy.sparse import csr_matrix\n",
    "from pandas.api.types import CategoricalDtype"
   ]
  },
  {
   "cell_type": "code",
   "execution_count": 24,
   "metadata": {},
   "outputs": [],
   "source": [
    "tr_long = pd.read_csv(\"./data/preproc/stg2up_2d_full_trainX.csv\")\n",
    "tr_y = pd.read_csv(\"./data/preproc/stg2up_2d_full_trainy.csv\")\n",
    "ts_long = pd.read_csv(\"./data/preproc/stg2up_2d_full_testX.csv\")\n",
    "ts_y = pd.read_csv(\"./data/preproc/stg2up_2d_full_testy.csv\")"
   ]
  },
  {
   "cell_type": "code",
   "execution_count": 13,
   "metadata": {},
   "outputs": [
    {
     "name": "stdout",
     "output_type": "stream",
     "text": [
      "    ROW_ID  dsa         key  value\n",
      "0  10000_1 -1.0         AGE   68.0\n",
      "1  10000_1 -1.0       SEX_F    1.0\n",
      "2  10000_1 -1.0     RACE_05    1.0\n",
      "3  10000_1 -1.0  HISPANIC_N    1.0\n",
      "4  10000_1  0.0        day0    1.0\n"
     ]
    }
   ],
   "source": [
    "print(tr_long.head(5))"
   ]
  },
  {
   "cell_type": "markdown",
   "metadata": {},
   "source": [
    "convert training data from long to wide using pd.pivot function\n",
    "ref: https://stackoverflow.com/questions/31661604/efficiently-create-sparse-pivot-tables-in-pandas"
   ]
  },
  {
   "cell_type": "code",
   "execution_count": null,
   "metadata": {},
   "outputs": [],
   "source": [
    "#dat_wide = dat_long.pivot('ROW_ID','key') #duplicates exist\n",
    "\n",
    "#take the latest value for each (ROW_ID,key)\n",
    "tr_long = tr_long.loc[tr_long.groupby(['ROW_ID','key'])['dsa'].idxmin()]\n",
    "del tr_long['dsa']\n",
    "\n",
    "#instead of using pivot, we will convert dat_long into sparse Matrix\n",
    "ROW_ID_c = CategoricalDtype(sorted(tr_long.ROW_ID.unique()), ordered=True)\n",
    "key_c = CategoricalDtype(sorted(tr_long.key.unique()), ordered=True)\n",
    "\n",
    "row = tr_long.ROW_ID.astype(ROW_ID_c).cat.codes\n",
    "col = tr_long.key.astype(key_c).cat.codes\n",
    "sparse_mt_tr = csr_matrix((tr_long[\"value\"], (row, col)), \\\n",
    "                           shape=(ROW_ID_c.categories.size, key_c.categories.size))\n",
    "\n",
    "#print out sparse matrix dimension\n",
    "sparse_mt_tr\n",
    "\n",
    "#sort tr_y by ROW_ID in sparse_mt_tr\n",
    "#ref: https://stackoverflow.com/questions/23482668/sorting-by-a-custom-list-in-pandas\n",
    "tr_y = tr_y[ROW_ID_c,'y']"
   ]
  },
  {
   "cell_type": "markdown",
   "metadata": {},
   "source": [
    "Now, we can convert testing data from long to wide using pd.pivot function and reuse key_c from training,\n",
    "so that columns of training and testing data are in line"
   ]
  },
  {
   "cell_type": "code",
   "execution_count": null,
   "metadata": {},
   "outputs": [],
   "source": [
    "#take the latest value for each (ROW_ID,key)\n",
    "ts_long = ts_long.loc[dat_long.groupby(['ROW_ID','key'])['dsa'].idxmin()]\n",
    "\n",
    "#instead of using pivot, we will convert ts_long into sparse Matrix\n",
    "ROW_ID_c = CategoricalDtype(sorted(ts_long.ROW_ID.unique()), ordered=True)\n",
    "\n",
    "row = ts_long.ROW_ID.astype(ROW_ID_c).cat.codes\n",
    "col = ts_long.key.astype(key_c).cat.codes\n",
    "sparse_mt_ts = csr_matrix((ts_long[\"value\"], (row, col)), \\\n",
    "                           shape=(ROW_ID_c.categories.size, key_c.categories.size))\n",
    "\n",
    "#print out sparse matrix dimension\n",
    "sparse_mt_ts\n",
    "\n",
    "#sort ts_y by ROW_ID in sparse_mt_ts\n",
    "ts_y = ts_y[ROW_ID_c,'y']"
   ]
  },
  {
   "cell_type": "markdown",
   "metadata": {},
   "source": [
    "As suggested by https://stackoverflow.com/questions/40817459/xgboost-and-sparse-matrix, sparse_mt_tr and tr_y can be directly used in xgboost model. "
   ]
  }
 ],
 "metadata": {
  "kernelspec": {
   "display_name": "Python 3",
   "language": "python",
   "name": "python3"
  },
  "language_info": {
   "codemirror_mode": {
    "name": "ipython",
    "version": 3
   },
   "file_extension": ".py",
   "mimetype": "text/x-python",
   "name": "python",
   "nbconvert_exporter": "python",
   "pygments_lexer": "ipython3",
   "version": "3.7.4"
  }
 },
 "nbformat": 4,
 "nbformat_minor": 2
}
